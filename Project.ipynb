import psycopg2

# دالة للاتصال بقاعدة البيانات
def connect_to_db():
    return psycopg2.connect(
        dbname="اسم_قاعدة_البيانات",  # اسم قاعدة البيانات
        user="اسم_المستخدم",  # اسم المستخدم
        password="كلمة_المرور",  # كلمة المرور
        host="localhost",  # أو عنوان IP لخادم PostgreSQL
        port="5432"  # المنفذ الافتراضي لـ PostgreSQL
    )

# دالة لتنفيذ استعلام SQL
def execute_query(query, params=None):
    connection = connect_to_db()
    cursor = connection.cursor()
    
    try:
        # تنفيذ الاستعلام
        cursor.execute(query, params)
        
        # إذا كان الاستعلام هو SELECT نعيد النتائج
        if query.strip().upper().startswith("SELECT"):
            result = cursor.fetchall()
        else:
            # إذا كان الاستعلام ليس SELECT نقوم بحفظ التعديلات
            connection.commit()
            result = None
        
    except Exception as e:
        # في حالة حدوث خطأ نرجع التعديلات
        connection.rollback()
        print(f"خطأ أثناء تنفيذ الاستعلام: {e}")
        result = None
    
    finally:
        cursor.close()  # إغلاق الكورسر
        connection.close()  # إغلاق الاتصال
    
    return result

# مثال: إنشاء جدول جديد
create_table_query = """
CREATE TABLE IF NOT EXISTS موظفين (
    id SERIAL PRIMARY KEY,
    الاسم VARCHAR(100),
    العمر INT
);
"""
execute_query(create_table_query)

# مثال: إضافة بيانات إلى الجدول
insert_query = "INSERT INTO موظفين (الاسم, العمر) VALUES (%s, %s);"
execute_query(insert_query, ('محمد', 30))
execute_query(insert_query, ('أحمد', 25))

# مثال: جلب البيانات من الجدول
select_query = "SELECT * FROM موظفين;"
employees = execute_query(select_query)

# عرض البيانات المسترجعة
if employees:
    for employee in employees:
        print(f"ID: {employee[0]}, الاسم: {employee[1]}, العمر: {employee[2]}")

